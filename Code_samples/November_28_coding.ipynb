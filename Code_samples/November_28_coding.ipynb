{
 "cells": [
  {
   "cell_type": "markdown",
   "metadata": {},
   "source": [
    "This is a markdown cell where I'm going to write my header comment\n"
   ]
  },
  {
   "cell_type": "code",
   "execution_count": 2,
   "metadata": {},
   "outputs": [],
   "source": [
    "# This is the directory where all of my data files are\n",
    "# that is, the ten reviews are here\n",
    "mydir = \"/Users/alfredarsenault/Documents/GitHub/Fall_2022/Homeworks_labs_etc/Project_3_files\""
   ]
  },
  {
   "cell_type": "markdown",
   "metadata": {},
   "source": [
    "1. Now, I want to read in all 10 review files into a list of strings\n",
    "2. One review per string"
   ]
  },
  {
   "cell_type": "code",
   "execution_count": 3,
   "metadata": {
    "scrolled": true
   },
   "outputs": [
    {
     "name": "stdout",
     "output_type": "stream",
     "text": [
      "review_8.txt\n",
      "review_9.txt\n",
      "review_2.txt\n",
      "review_3.txt\n",
      "review_1.txt\n",
      "review_4.txt\n",
      "review_5.txt\n",
      "review_7.txt\n",
      "review_6.txt\n",
      "review_10.txt\n",
      "stopwords.txt\n",
      "Project_3_Fall_2022.pdf\n"
     ]
    }
   ],
   "source": [
    "import os  #import the python operating system library\n",
    "concatenated_data_list = [] # this will be a list of all 10 reviews\n",
    "for filename in os.listdir(mydir):\n",
    "    print(filename)\n",
    "    if \"review\" in filename:\n",
    "        real_dir = mydir + \"/\" + filename   #gives the full pathname of the file\n",
    "        with open ( real_dir, \"r\") as infile:\n",
    "            data = infile.read()\n",
    "            concatenated_data_list.append(data)\n"
   ]
  },
  {
   "cell_type": "markdown",
   "metadata": {},
   "source": [
    "# Error check\n",
    "Did we properly read in all the reviews?"
   ]
  },
  {
   "cell_type": "code",
   "execution_count": 4,
   "metadata": {},
   "outputs": [
    {
     "name": "stdout",
     "output_type": "stream",
     "text": [
      "\n",
      "When compared to its predecessor, Black Panther, also directed by Ryan Coogler, the world's most profitable Black director (though that status did not protect him from a racially charged bad encounter with the law), the form and execution of Wakanda Forever's narrative is, without question, inferior. Also, the absence of the late and great Chadwick Boseman haunts the picture. His presence is not only missed but still very much needed. The political content of Wakanda Forever, however, is far more radical than that of Black Panther.\n",
      "Queen Ramonda (Angela Bassett) puts on a brave face, while a globe full of rival nations looks to pillage Wakanda in the absence of the Black Panther. Her daughter Shuri (Letitia Wright) throws herself into her science experiments, shunning the spiritual side of their culture entirely. General Okoye (Danai Gurira) frets for them both, and Nakia (Lupita Nyong’o) hasn’t shown her face in Wakanda since before The Blip, the cosmic catastrophe from “Avengers: Infinity War,” where half of the universe’s population was blinked out of existence.\n",
      "In this crossover-happy cinematic universe where every corner of Marvel interacts with every other, Wakanda and her citizens feel more isolated than ever. In the first act, director and co-writer Ryan Coogler stage stirring displays of Girl Power™ and Black Excellence™ to show that Wakanda’s women are holding down the fort. Still, the West’s thirst for Vibranium looms large. \n",
      "\n",
      "The loss of King T’Challa (Chadwick Boseman), aka Black Panther, weighs heavily on the people of Wakanda. More so on his sister Princess Shuri (Letitia Wright) and his mother Queen Ramonda (Angel Bassett). They try to move forward but are paralyzed with grief. A sorrow so deep it shadows their attempts to keep their nation safe. Outside forces covet their precious metal Vibranium, which absorbs, stores and releases super amounts of kinetic energy. They must remain vigilant.\n",
      "The royals think they are alone in their struggle against the outer world, until they encounter an interloper. Namor (Tenoch Huerta Mejía, Son of Monarchs) is the emperor of the hidden undersea kingdom of Talokan. His people are of Mayan ancestry. He offers them an opportunity to fight mutual enemies. “You want to burn the world? We’ll burn it together.” Can he be trusted? Is combat against anyone the answer? Some say no: “If you go to war for vengeance, it will never fill the hole in your soul.” \n",
      "\n",
      "A palpable low point for the Marvel Cinematic Universe, Black Panther: Wakanda Forever follows an assortment of Wakandans, including Letitia Wright’s Shuri, Lupita Nyong’o’s Nakia, and Angela Bassett’s Ramonda, as they attempt to protect their nation in the wake of T’Challa’s sudden and unexpected demise. Filmmaker Ryan Coogler, armed with his and Joe Robert Cole’s screenplay, delivers a pervasively uninvolving misfire that does, at a running time of 161 minutes (!), feel just about endless, as the movie suffers from a pervasive lack of forward momentum that’s compounded by a paucity of compelling sequences or three-dimensional characters – with the latter reflected most keenly in the disastrous decision to focus on Wright’s tiresome, less-than-dynamic figure. (And it doesn’t help, either, that the actress is completely lacking the commanding presence required of a leading performer.) It’s worth noting, as well, that Black Panther: Wakanda Forever‘s arms-length atmosphere is perpetuated by an ongoing emphasis on dimly-lit, hopelessly unexciting action sequences, and there’s little doubt, as well, that the inclusion of several aggressively tedious subplots, especially a mid-movie digression into the world of an underwater race of warriors, heightens the picture’s interminable feel. (This is all to say nothing of the second act’s preponderance of long, drawn-out conversations of an entirely uninteresting nature.) By the time the special-effects-heavy (and thoroughly anticlimactic) final stretch rolls around, Black Panther: Wakanda Forever has confirmed its place as an often shockingly underwhelming endeavor that remains unable to capture the viewer’s interest and attention even fleetingly.\n",
      "\n",
      "Like Wakanda, Namor’s Talokan pursued a policy of intense isolationism until external threats spurred the kingdom into defensive action. When American military forces search for vibranium at the bottom of the ocean, threatening to discover Talokan, Namor leads a raid that wipes them out. The global hunger for vibranium is ravenous. French mercenaries try to steal it from Wakanda in a failed mission that leads to their capture. The lesson is too explicit to miss: Speaking to Shuri and Ramonda, Namor states plainly that the European and American imperialists continue an age-old pillage. Except now those former colonizers face superpowers with more advanced weaponry and technology — and more advanced notice to prepare, or preemptively strike. Namor’s aggression runs up against Wakanda’s resistance to violence. Played with kinetic stoicism by Tenoch Huerta, Namor tries to persuade Shuri that their alliance could eliminate every trace of imperial plunder in the \"surface world,\" as he calls the civilizations above the water. \"Surface people conquered people like us for our resources,\" he says.\n",
      "\n",
      "\n",
      "Wakanda is grieving the sudden death of King T'Challa (the late Chadwick Boseman). As his mother Queen Ramonda (Bassett) and sister Princess Shuri (Wright) face putting their lives back together, they discover a new threat from the hidden nation Talokan, which shares their technological advantage through the extraterrestrial mineral vibranium. Based in an underwater kingdom off the coast of Mexico, ruler Namor (Huerta) may be proposing an alliance, but his methods put Wakanda on the defence, as top spy Nakia (Nyong'o), local leader M'Baku (Duke) and warriors (including Gurira, Kasumba and Coel) spring into action.\n",
      "\n",
      "Because the film circles around issues of grief, its narrative is much more introspective than expected. Each plot point springs from decisions made at moments of vulnerability, so the primary trajectory of the story is within the characters. This makes the film involving and often powerfully moving, and adds a proper twist to questions about whether someone should take on the heroic mantle of Black Panther. None of this plays out simplistically, as scenes undercut over-serious dialog with sharp humour, surprising action and big revelations.\n",
      "\n",
      "f that seems more introspective than a superhero clash, let alone one with battles on air, sea, and soil, it also feels right. Boseman’s death in 2020 at 43 from colon cancer, an illness he hid save for his inner circle, rocked the close-knit cast and crew, plus legions of fans. Some were too young to have seen his portrayals of pioneers such as Thurgood Marshall (2017’s Marshall) and Jackie Robinson (2013’s 42), but here, just as they got to know—and wanted to emulate—this charismatic king, he was gone. Not just disintegrated into dust, like half the Marvel universe in Avengers: Infinity War, then brought back a year later in Avengers: Endgame. But for real.\n",
      "Wakanda Forever, then, had a tall order to fill, and if it’s flawed in parts, it also acknowledges this loss and moves forward in a way that’s ultimately satisfying. The plot is sometimes messy, with many moving parts, but the film gives its actors—especially Wakanda’s formidable women—powerful performances and moments to shine.\n",
      "\n",
      "\n",
      "\n",
      "There’s an old TV tropes page, given the title “Reed Richards Is Useless” some digital eons ago, that describes a paradoxical condition of comic book fiction: if a character is possessed with limitless intelligence, to the point that they can transcend reality itself through technology or augment themselves to become immensely powerful beings, they’re oftentimes prevented from more mundane but equally as horrible problems within the world around. Providing food to the hungry, helping to end energy crises and prevent global warming, or discovering cures for deadly diseases – all of these take a backseat to exploration or beating up superpowered threats from another galaxy when they show up next to the ISS. There are plenty of reasons for this, all of which are designed to protect the idea of the superhero from the implications of his very existence and to maintain the suspension of disbelief. If the recognizable problems within, say, the Marvel Universe, find themselves mitigated by Tony Stark or whomever, the reader will cease to find themselves and their neighbors in the text, which is a problem often endemic to superhero fiction, given those characters’ presence in a reality that’s similar to ours but just oh-so-slightly different, not to mention how it would rob the MCU of many of its little quips and pop culture references. There have been, of course, plenty of fantastic comics written exploring this trend, but they’re often given definitive endings (provided DC Comics doesn’t keep your masterwork in circulation for 40 years until they can have your blue-cocked and hung protagonist face off against Superman). Changes to the status quo are, of course, temporary — even Bucky could not stay dead, after all — and the mean will be regressed towards at some point.\n",
      "A decade ago, it would have been unthinkable for Hollywood to produce a superhero film in which all the lead characters were black African women. Even less likely was that the United States would play the role of the villain – an irresponsible superpower that can’t be trusted to preserve world peace. Welcome to 2022, and Ryan Coogler’s Black Panther: Wakanda Forever.\n",
      "If all these revolutionary developments resulted in a cinematic masterpiece, I’d be quick to sing its praises, but this is another of those occasions when I feel like the only sober person at a bacchanal, or perhaps the only drunk at a solemn church service. For the bacchanal, vide the outpouring of over-the-top praise the film has received, both from the critics and from fans on social media. It’s beautiful, poignant, poetic, moving, heartbreaking, and anything else you can imagine\n",
      "\n",
      "\n",
      "Queen Ramonda (Angela Bassett) puts on a brave face, while a globe full of rival nations looks to pillage Wakanda in the absence of the Black Panther. Her daughter Shuri (Letitia Wright) throws herself into her science experiments, shunning the spiritual side of their culture entirely. General Okoye (Danai Gurira) frets for them both, and Nakia (Lupita Nyong’o) hasn’t shown her face in Wakanda since before The Blip, the cosmic catastrophe from “Avengers: Infinity War,” where half of the universe’s population was blinked out of existence.\n",
      "In this crossover-happy cinematic universe where every corner of Marvel interacts with every other, Wakanda and her citizens feel more isolated than ever. In the first act, director and co-writer Ryan Coogler stage stirring displays of Girl Power™ and Black Excellence™ to show that Wakanda’s women are holding down the fort. Still, the West’s thirst for Vibranium looms large. \n",
      "\n"
     ]
    }
   ],
   "source": [
    "for i in range(len(concatenated_data_list)):\n",
    "    print(concatenated_data_list[i])"
   ]
  },
  {
   "cell_type": "code",
   "execution_count": null,
   "metadata": {},
   "outputs": [],
   "source": []
  }
 ],
 "metadata": {
  "kernelspec": {
   "display_name": "Python 3",
   "language": "python",
   "name": "python3"
  },
  "language_info": {
   "codemirror_mode": {
    "name": "ipython",
    "version": 3
   },
   "file_extension": ".py",
   "mimetype": "text/x-python",
   "name": "python",
   "nbconvert_exporter": "python",
   "pygments_lexer": "ipython3",
   "version": "3.8.3"
  }
 },
 "nbformat": 4,
 "nbformat_minor": 4
}
